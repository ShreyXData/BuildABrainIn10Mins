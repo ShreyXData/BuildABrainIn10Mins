{
 "cells": [
  {
   "cell_type": "markdown",
   "id": "d50b10e6",
   "metadata": {
    "papermill": {
     "duration": 0.006698,
     "end_time": "2025-05-21T10:14:52.641640",
     "exception": false,
     "start_time": "2025-05-21T10:14:52.634942",
     "status": "completed"
    },
    "tags": []
   },
   "source": [
    "# 🧠 Build A Brain in 10 Minutes\n",
    "\n",
    "Let’s create a tiny AI that learns to recognise clothes! Yes, like the brain of a fashion assistant robot! 🤖👕👗\n",
    "Using TensorFlow + Fashion MNIST, we’ll teach a neural network to identify items like shirts, shoes, and bags.\n",
    "\n",
    "Don't worry if you're a beginner — I'll explain every part step-by-step with comments and emojis!\n",
    "\n",
    "We'll train the brain to learn **patterns from data** — just like a baby learns by seeing examples.\n",
    "\n",
    "Let’s go 🚀\n"
   ]
  },
  {
   "cell_type": "code",
   "execution_count": 1,
   "id": "35d8e85d",
   "metadata": {
    "execution": {
     "iopub.execute_input": "2025-05-21T10:14:52.653712Z",
     "iopub.status.busy": "2025-05-21T10:14:52.653309Z",
     "iopub.status.idle": "2025-05-21T10:15:21.428295Z",
     "shell.execute_reply": "2025-05-21T10:15:21.426969Z"
    },
    "papermill": {
     "duration": 28.783398,
     "end_time": "2025-05-21T10:15:21.430492",
     "exception": false,
     "start_time": "2025-05-21T10:14:52.647094",
     "status": "completed"
    },
    "tags": []
   },
   "outputs": [
    {
     "name": "stderr",
     "output_type": "stream",
     "text": [
      "2025-05-21 10:15:00.719073: E external/local_xla/xla/stream_executor/cuda/cuda_fft.cc:477] Unable to register cuFFT factory: Attempting to register factory for plugin cuFFT when one has already been registered\n",
      "WARNING: All log messages before absl::InitializeLog() is called are written to STDERR\n",
      "E0000 00:00:1747822501.024673      13 cuda_dnn.cc:8310] Unable to register cuDNN factory: Attempting to register factory for plugin cuDNN when one has already been registered\n",
      "E0000 00:00:1747822501.143805      13 cuda_blas.cc:1418] Unable to register cuBLAS factory: Attempting to register factory for plugin cuBLAS when one has already been registered\n"
     ]
    }
   ],
   "source": [
    "# 📦 These are the tools we'll use\n",
    "import numpy as np  # For working with numbers and arrays\n",
    "import torch        # PyTorch is our deep learning library\n",
    "import torch.nn as nn  # We'll use this to create the brain (neural network)\n",
    "import matplotlib.pyplot as plt  # For visualizing data\n",
    "import tensorflow as tf"
   ]
  },
  {
   "cell_type": "markdown",
   "id": "8190041b",
   "metadata": {
    "papermill": {
     "duration": 0.005621,
     "end_time": "2025-05-21T10:15:21.441904",
     "exception": false,
     "start_time": "2025-05-21T10:15:21.436283",
     "status": "completed"
    },
    "tags": []
   },
   "source": []
  },
  {
   "cell_type": "markdown",
   "id": "b64532ce",
   "metadata": {
    "papermill": {
     "duration": 0.004829,
     "end_time": "2025-05-21T10:15:21.452077",
     "exception": false,
     "start_time": "2025-05-21T10:15:21.447248",
     "status": "completed"
    },
    "tags": []
   },
   "source": [
    "**⚡ Do We Have a GPU?**\n",
    "\n",
    "Let’s check if we have a GPU. It’s like asking: Do we get a sports car or a bicycle for this race?"
   ]
  },
  {
   "cell_type": "code",
   "execution_count": 2,
   "id": "cda0e9af",
   "metadata": {
    "execution": {
     "iopub.execute_input": "2025-05-21T10:15:21.464050Z",
     "iopub.status.busy": "2025-05-21T10:15:21.463422Z",
     "iopub.status.idle": "2025-05-21T10:15:21.476356Z",
     "shell.execute_reply": "2025-05-21T10:15:21.475277Z"
    },
    "papermill": {
     "duration": 0.021065,
     "end_time": "2025-05-21T10:15:21.478272",
     "exception": false,
     "start_time": "2025-05-21T10:15:21.457207",
     "status": "completed"
    },
    "tags": []
   },
   "outputs": [
    {
     "name": "stderr",
     "output_type": "stream",
     "text": [
      "2025-05-21 10:15:21.468452: E external/local_xla/xla/stream_executor/cuda/cuda_driver.cc:152] failed call to cuInit: INTERNAL: CUDA error: Failed call to cuInit: UNKNOWN ERROR (303)\n"
     ]
    },
    {
     "data": {
      "text/plain": [
       "[]"
      ]
     },
     "execution_count": 2,
     "metadata": {},
     "output_type": "execute_result"
    }
   ],
   "source": [
    "# Check if a GPU is available for faster computation\n",
    "tf.config.list_physical_devices('GPU')\n"
   ]
  },
  {
   "cell_type": "code",
   "execution_count": 3,
   "id": "1ced0baa",
   "metadata": {
    "_cell_guid": "b1076dfc-b9ad-4769-8c92-a6c4dae69d19",
    "_uuid": "8f2839f25d086af736a60e9eeb907d3b93b6e0e5",
    "execution": {
     "iopub.execute_input": "2025-05-21T10:15:21.490763Z",
     "iopub.status.busy": "2025-05-21T10:15:21.490378Z",
     "iopub.status.idle": "2025-05-21T10:15:21.500498Z",
     "shell.execute_reply": "2025-05-21T10:15:21.498983Z"
    },
    "papermill": {
     "duration": 0.018341,
     "end_time": "2025-05-21T10:15:21.502331",
     "exception": false,
     "start_time": "2025-05-21T10:15:21.483990",
     "status": "completed"
    },
    "tags": []
   },
   "outputs": [
    {
     "name": "stdout",
     "output_type": "stream",
     "text": [
      "/kaggle/input/mnist-idx-dataset-fasion/t10k-labels-idx1-ubyte\n",
      "/kaggle/input/mnist-idx-dataset-fasion/t10k-images-idx3-ubyte\n",
      "/kaggle/input/mnist-idx-dataset-fasion/train-labels-idx1-ubyte\n",
      "/kaggle/input/mnist-idx-dataset-fasion/train-images-idx3-ubyte\n"
     ]
    }
   ],
   "source": [
    "# This Python 3 environment comes with many helpful analytics libraries installed\n",
    "# It is defined by the kaggle/python Docker image: https://github.com/kaggle/docker-python\n",
    "# For example, here's several helpful packages to load\n",
    "\n",
    "import numpy as np # linear algebra\n",
    "import pandas as pd # data processing, CSV file I/O (e.g. pd.read_csv)\n",
    "\n",
    "# Input data files are available in the read-only \"../input/\" directory\n",
    "# For example, running this (by clicking run or pressing Shift+Enter) will list all files under the input directory\n",
    "\n",
    "import os\n",
    "for dirname, _, filenames in os.walk('/kaggle/input'):\n",
    "    for filename in filenames:\n",
    "        print(os.path.join(dirname, filename))\n",
    "\n",
    "# You can write up to 20GB to the current directory (/kaggle/working/) that gets preserved as output when you create a version using \"Save & Run All\" \n",
    "# You can also write temporary files to /kaggle/temp/, but they won't be saved outside of the current session"
   ]
  },
  {
   "cell_type": "markdown",
   "id": "2de17caf",
   "metadata": {
    "papermill": {
     "duration": 0.006334,
     "end_time": "2025-05-21T10:15:21.514524",
     "exception": false,
     "start_time": "2025-05-21T10:15:21.508190",
     "status": "completed"
    },
    "tags": []
   },
   "source": [
    "**🧵 Meet the Dataset: Fashion MNIST 👗👞👜**\n",
    "\n",
    "We’ll use Fashion MNIST — 70,000 images (28x28 pixels) of clothing items from Zalando."
   ]
  },
  {
   "cell_type": "code",
   "execution_count": 4,
   "id": "44fa9a1f",
   "metadata": {
    "execution": {
     "iopub.execute_input": "2025-05-21T10:15:21.528688Z",
     "iopub.status.busy": "2025-05-21T10:15:21.528344Z",
     "iopub.status.idle": "2025-05-21T10:15:26.569174Z",
     "shell.execute_reply": "2025-05-21T10:15:26.568179Z"
    },
    "papermill": {
     "duration": 5.050558,
     "end_time": "2025-05-21T10:15:26.571168",
     "exception": false,
     "start_time": "2025-05-21T10:15:21.520610",
     "status": "completed"
    },
    "tags": []
   },
   "outputs": [
    {
     "name": "stdout",
     "output_type": "stream",
     "text": [
      "Downloading data from https://storage.googleapis.com/tensorflow/tf-keras-datasets/train-labels-idx1-ubyte.gz\n",
      "\u001b[1m29515/29515\u001b[0m \u001b[32m━━━━━━━━━━━━━━━━━━━━\u001b[0m\u001b[37m\u001b[0m \u001b[1m0s\u001b[0m 0us/step\n",
      "Downloading data from https://storage.googleapis.com/tensorflow/tf-keras-datasets/train-images-idx3-ubyte.gz\n",
      "\u001b[1m26421880/26421880\u001b[0m \u001b[32m━━━━━━━━━━━━━━━━━━━━\u001b[0m\u001b[37m\u001b[0m \u001b[1m2s\u001b[0m 0us/step\n",
      "Downloading data from https://storage.googleapis.com/tensorflow/tf-keras-datasets/t10k-labels-idx1-ubyte.gz\n",
      "\u001b[1m5148/5148\u001b[0m \u001b[32m━━━━━━━━━━━━━━━━━━━━\u001b[0m\u001b[37m\u001b[0m \u001b[1m0s\u001b[0m 0us/step\n",
      "Downloading data from https://storage.googleapis.com/tensorflow/tf-keras-datasets/t10k-images-idx3-ubyte.gz\n",
      "\u001b[1m4422102/4422102\u001b[0m \u001b[32m━━━━━━━━━━━━━━━━━━━━\u001b[0m\u001b[37m\u001b[0m \u001b[1m1s\u001b[0m 0us/step\n"
     ]
    }
   ],
   "source": [
    "# Load Fashion MNIST dataset directly from TensorFlow\n",
    "fashion_mnist = tf.keras.datasets.fashion_mnist\n",
    "(train_images, train_labels), (valid_images, valid_labels) = fashion_mnist.load_data()\n"
   ]
  },
  {
   "cell_type": "markdown",
   "id": "c4389139",
   "metadata": {
    "papermill": {
     "duration": 0.009638,
     "end_time": "2025-05-21T10:15:26.590552",
     "exception": false,
     "start_time": "2025-05-21T10:15:26.580914",
     "status": "completed"
    },
    "tags": []
   },
   "source": [
    "**🔍 Peek Inside the Closet (Data)**\n",
    "\n",
    "Each image is labeled with a number from 0 to 9. Let’s give those numbers names:"
   ]
  },
  {
   "cell_type": "code",
   "execution_count": 5,
   "id": "5f4eb3b3",
   "metadata": {
    "execution": {
     "iopub.execute_input": "2025-05-21T10:15:26.611963Z",
     "iopub.status.busy": "2025-05-21T10:15:26.611659Z",
     "iopub.status.idle": "2025-05-21T10:15:26.615900Z",
     "shell.execute_reply": "2025-05-21T10:15:26.614767Z"
    },
    "papermill": {
     "duration": 0.016711,
     "end_time": "2025-05-21T10:15:26.617511",
     "exception": false,
     "start_time": "2025-05-21T10:15:26.600800",
     "status": "completed"
    },
    "tags": []
   },
   "outputs": [],
   "source": [
    "class_names = [\n",
    "    \"T-shirt/top\", \"Trouser\", \"Pullover\", \"Dress\", \"Coat\",\n",
    "    \"Sandal\", \"Shirt\", \"Sneaker\", \"Bag\", \"Ankle boot\"\n",
    "]\n"
   ]
  },
  {
   "cell_type": "markdown",
   "id": "cb113a09",
   "metadata": {
    "papermill": {
     "duration": 0.008324,
     "end_time": "2025-05-21T10:15:26.635192",
     "exception": false,
     "start_time": "2025-05-21T10:15:26.626868",
     "status": "completed"
    },
    "tags": []
   },
   "source": [
    "> Let’s see an actual image:"
   ]
  },
  {
   "cell_type": "code",
   "execution_count": 6,
   "id": "504101f7",
   "metadata": {
    "execution": {
     "iopub.execute_input": "2025-05-21T10:15:26.653627Z",
     "iopub.status.busy": "2025-05-21T10:15:26.653294Z",
     "iopub.status.idle": "2025-05-21T10:15:26.833387Z",
     "shell.execute_reply": "2025-05-21T10:15:26.832393Z"
    },
    "papermill": {
     "duration": 0.191185,
     "end_time": "2025-05-21T10:15:26.834971",
     "exception": false,
     "start_time": "2025-05-21T10:15:26.643786",
     "status": "completed"
    },
    "tags": []
   },
   "outputs": [
    {
     "data": {
      "image/png": "[encoded data removed]",
      "text/plain": [
       "<Figure size 400x400 with 1 Axes>"
      ]
     },
     "metadata": {},
     "output_type": "display_data"
    }
   ],
   "source": [
    "index = 42\n",
    "plt.figure(figsize=(4,4))\n",
    "plt.imshow(train_images[index], cmap='gray')\n",
    "plt.title(f\"Label: {class_names[train_labels[index]]}\")\n",
    "plt.axis('off')\n",
    "plt.show()\n"
   ]
  },
  {
   "cell_type": "markdown",
   "id": "9ecf2d95",
   "metadata": {
    "papermill": {
     "duration": 0.008529,
     "end_time": "2025-05-21T10:15:26.852530",
     "exception": false,
     "start_time": "2025-05-21T10:15:26.844001",
     "status": "completed"
    },
    "tags": []
   },
   "source": [
    "**✨ Make It Shine: Normalise the Pixels**\n",
    "\n",
    "Pixel values are between 0 and 255. We divide by 255 so all values are between 0 and 1."
   ]
  },
  {
   "cell_type": "code",
   "execution_count": 7,
   "id": "cb248a6b",
   "metadata": {
    "execution": {
     "iopub.execute_input": "2025-05-21T10:15:26.872713Z",
     "iopub.status.busy": "2025-05-21T10:15:26.872343Z",
     "iopub.status.idle": "2025-05-21T10:15:27.176610Z",
     "shell.execute_reply": "2025-05-21T10:15:27.175703Z"
    },
    "papermill": {
     "duration": 0.316127,
     "end_time": "2025-05-21T10:15:27.178276",
     "exception": false,
     "start_time": "2025-05-21T10:15:26.862149",
     "status": "completed"
    },
    "tags": []
   },
   "outputs": [],
   "source": [
    "train_images = train_images / 255.0\n",
    "valid_images = valid_images / 255.0\n"
   ]
  },
  {
   "cell_type": "markdown",
   "id": "bff01864",
   "metadata": {
    "papermill": {
     "duration": 0.008478,
     "end_time": "2025-05-21T10:15:27.196044",
     "exception": false,
     "start_time": "2025-05-21T10:15:27.187566",
     "status": "completed"
    },
    "tags": []
   },
   "source": [
    "> Think of this like resizing ingredients in a recipe — smaller, easier chunks for the brain to digest!"
   ]
  },
  {
   "cell_type": "markdown",
   "id": "c04fdf27",
   "metadata": {
    "papermill": {
     "duration": 0.008526,
     "end_time": "2025-05-21T10:15:27.213644",
     "exception": false,
     "start_time": "2025-05-21T10:15:27.205118",
     "status": "completed"
    },
    "tags": []
   },
   "source": [
    "**🧠 Build the Brain (Neural Network)**\n",
    "\n",
    "A neural network has layers — like layers of understanding 👓\n",
    "\n"
   ]
  },
  {
   "cell_type": "code",
   "execution_count": 8,
   "id": "10d1e01d",
   "metadata": {
    "execution": {
     "iopub.execute_input": "2025-05-21T10:15:27.233482Z",
     "iopub.status.busy": "2025-05-21T10:15:27.233146Z",
     "iopub.status.idle": "2025-05-21T10:15:27.335250Z",
     "shell.execute_reply": "2025-05-21T10:15:27.334187Z"
    },
    "papermill": {
     "duration": 0.114567,
     "end_time": "2025-05-21T10:15:27.337183",
     "exception": false,
     "start_time": "2025-05-21T10:15:27.222616",
     "status": "completed"
    },
    "tags": []
   },
   "outputs": [
    {
     "name": "stderr",
     "output_type": "stream",
     "text": [
      "/usr/local/lib/python3.11/dist-packages/keras/src/layers/reshaping/flatten.py:37: UserWarning: Do not pass an `input_shape`/`input_dim` argument to a layer. When using Sequential models, prefer using an `Input(shape)` object as the first layer in the model instead.\n",
      "  super().__init__(**kwargs)\n"
     ]
    }
   ],
   "source": [
    "model = tf.keras.Sequential([\n",
    "    tf.keras.layers.Flatten(input_shape=(28, 28)),  # Flatten image to 1D\n",
    "    tf.keras.layers.Dense(128, activation='relu'),  # Hidden layer\n",
    "    tf.keras.layers.Dense(10)  # Output layer: one for each class\n",
    "])\n"
   ]
  },
  {
   "cell_type": "markdown",
   "id": "15a02c59",
   "metadata": {
    "papermill": {
     "duration": 0.009088,
     "end_time": "2025-05-21T10:15:27.356591",
     "exception": false,
     "start_time": "2025-05-21T10:15:27.347503",
     "status": "completed"
    },
    "tags": []
   },
   "source": [
    "**🧾 8. Model Summary**\n",
    "\n",
    "Let’s take a look under the hood. What does this brain look like?"
   ]
  },
  {
   "cell_type": "code",
   "execution_count": 9,
   "id": "13dd37f0",
   "metadata": {
    "execution": {
     "iopub.execute_input": "2025-05-21T10:15:27.377215Z",
     "iopub.status.busy": "2025-05-21T10:15:27.376930Z",
     "iopub.status.idle": "2025-05-21T10:15:27.398069Z",
     "shell.execute_reply": "2025-05-21T10:15:27.396775Z"
    },
    "papermill": {
     "duration": 0.033815,
     "end_time": "2025-05-21T10:15:27.399555",
     "exception": false,
     "start_time": "2025-05-21T10:15:27.365740",
     "status": "completed"
    },
    "tags": []
   },
   "outputs": [
    {
     "data": {
      "text/html": [
       "<pre style=\"white-space:pre;overflow-x:auto;line-height:normal;font-family:Menlo,'DejaVu Sans Mono',consolas,'Courier New',monospace\"><span style=\"font-weight: bold\">Model: \"sequential\"</span>\n",
       "</pre>\n"
      ],
      "text/plain": [
       "\u001b[1mModel: \"sequential\"\u001b[0m\n"
      ]
     },
     "metadata": {},
     "output_type": "display_data"
    },
    {
     "data": {
      "text/html": [
       "<pre style=\"white-space:pre;overflow-x:auto;line-height:normal;font-family:Menlo,'DejaVu Sans Mono',consolas,'Courier New',monospace\">┏━━━━━━━━━━━━━━━━━━━━━━━━━━━━━━━━━━━━━━┳━━━━━━━━━━━━━━━━━━━━━━━━━━━━━┳━━━━━━━━━━━━━━━━━┓\n",
       "┃<span style=\"font-weight: bold\"> Layer (type)                         </span>┃<span style=\"font-weight: bold\"> Output Shape                </span>┃<span style=\"font-weight: bold\">         Param # </span>┃\n",
       "┡━━━━━━━━━━━━━━━━━━━━━━━━━━━━━━━━━━━━━━╇━━━━━━━━━━━━━━━━━━━━━━━━━━━━━╇━━━━━━━━━━━━━━━━━┩\n",
       "│ flatten (<span style=\"color: #0087ff; text-decoration-color: #0087ff\">Flatten</span>)                    │ (<span style=\"color: #00d7ff; text-decoration-color: #00d7ff\">None</span>, <span style=\"color: #00af00; text-decoration-color: #00af00\">784</span>)                 │               <span style=\"color: #00af00; text-decoration-color: #00af00\">0</span> │\n",
       "├──────────────────────────────────────┼─────────────────────────────┼─────────────────┤\n",
       "│ dense (<span style=\"color: #0087ff; text-decoration-color: #0087ff\">Dense</span>)                        │ (<span style=\"color: #00d7ff; text-decoration-color: #00d7ff\">None</span>, <span style=\"color: #00af00; text-decoration-color: #00af00\">128</span>)                 │         <span style=\"color: #00af00; text-decoration-color: #00af00\">100,480</span> │\n",
       "├──────────────────────────────────────┼─────────────────────────────┼─────────────────┤\n",
       "│ dense_1 (<span style=\"color: #0087ff; text-decoration-color: #0087ff\">Dense</span>)                      │ (<span style=\"color: #00d7ff; text-decoration-color: #00d7ff\">None</span>, <span style=\"color: #00af00; text-decoration-color: #00af00\">10</span>)                  │           <span style=\"color: #00af00; text-decoration-color: #00af00\">1,290</span> │\n",
       "└──────────────────────────────────────┴─────────────────────────────┴─────────────────┘\n",
       "</pre>\n"
      ],
      "text/plain": [
       "┏━━━━━━━━━━━━━━━━━━━━━━━━━━━━━━━━━━━━━━┳━━━━━━━━━━━━━━━━━━━━━━━━━━━━━┳━━━━━━━━━━━━━━━━━┓\n",
       "┃\u001b[1m \u001b[0m\u001b[1mLayer (type)                        \u001b[0m\u001b[1m \u001b[0m┃\u001b[1m \u001b[0m\u001b[1mOutput Shape               \u001b[0m\u001b[1m \u001b[0m┃\u001b[1m \u001b[0m\u001b[1m        Param #\u001b[0m\u001b[1m \u001b[0m┃\n",
       "┡━━━━━━━━━━━━━━━━━━━━━━━━━━━━━━━━━━━━━━╇━━━━━━━━━━━━━━━━━━━━━━━━━━━━━╇━━━━━━━━━━━━━━━━━┩\n",
       "│ flatten (\u001b[38;5;33mFlatten\u001b[0m)                    │ (\u001b[38;5;45mNone\u001b[0m, \u001b[38;5;34m784\u001b[0m)                 │               \u001b[38;5;34m0\u001b[0m │\n",
       "├──────────────────────────────────────┼─────────────────────────────┼─────────────────┤\n",
       "│ dense (\u001b[38;5;33mDense\u001b[0m)                        │ (\u001b[38;5;45mNone\u001b[0m, \u001b[38;5;34m128\u001b[0m)                 │         \u001b[38;5;34m100,480\u001b[0m │\n",
       "├──────────────────────────────────────┼─────────────────────────────┼─────────────────┤\n",
       "│ dense_1 (\u001b[38;5;33mDense\u001b[0m)                      │ (\u001b[38;5;45mNone\u001b[0m, \u001b[38;5;34m10\u001b[0m)                  │           \u001b[38;5;34m1,290\u001b[0m │\n",
       "└──────────────────────────────────────┴─────────────────────────────┴─────────────────┘\n"
      ]
     },
     "metadata": {},
     "output_type": "display_data"
    },
    {
     "data": {
      "text/html": [
       "<pre style=\"white-space:pre;overflow-x:auto;line-height:normal;font-family:Menlo,'DejaVu Sans Mono',consolas,'Courier New',monospace\"><span style=\"font-weight: bold\"> Total params: </span><span style=\"color: #00af00; text-decoration-color: #00af00\">101,770</span> (397.54 KB)\n",
       "</pre>\n"
      ],
      "text/plain": [
       "\u001b[1m Total params: \u001b[0m\u001b[38;5;34m101,770\u001b[0m (397.54 KB)\n"
      ]
     },
     "metadata": {},
     "output_type": "display_data"
    },
    {
     "data": {
      "text/html": [
       "<pre style=\"white-space:pre;overflow-x:auto;line-height:normal;font-family:Menlo,'DejaVu Sans Mono',consolas,'Courier New',monospace\"><span style=\"font-weight: bold\"> Trainable params: </span><span style=\"color: #00af00; text-decoration-color: #00af00\">101,770</span> (397.54 KB)\n",
       "</pre>\n"
      ],
      "text/plain": [
       "\u001b[1m Trainable params: \u001b[0m\u001b[38;5;34m101,770\u001b[0m (397.54 KB)\n"
      ]
     },
     "metadata": {},
     "output_type": "display_data"
    },
    {
     "data": {
      "text/html": [
       "<pre style=\"white-space:pre;overflow-x:auto;line-height:normal;font-family:Menlo,'DejaVu Sans Mono',consolas,'Courier New',monospace\"><span style=\"font-weight: bold\"> Non-trainable params: </span><span style=\"color: #00af00; text-decoration-color: #00af00\">0</span> (0.00 B)\n",
       "</pre>\n"
      ],
      "text/plain": [
       "\u001b[1m Non-trainable params: \u001b[0m\u001b[38;5;34m0\u001b[0m (0.00 B)\n"
      ]
     },
     "metadata": {},
     "output_type": "display_data"
    }
   ],
   "source": [
    "model.summary()\n"
   ]
  },
  {
   "cell_type": "markdown",
   "id": "3398ff05",
   "metadata": {
    "papermill": {
     "duration": 0.008999,
     "end_time": "2025-05-21T10:15:27.418588",
     "exception": false,
     "start_time": "2025-05-21T10:15:27.409589",
     "status": "completed"
    },
    "tags": []
   },
   "source": [
    "**⚙️ Compile the Model**\n",
    "\n",
    "Time to choose how the model learns — like choosing a study plan!"
   ]
  },
  {
   "cell_type": "code",
   "execution_count": 10,
   "id": "ba3922a8",
   "metadata": {
    "execution": {
     "iopub.execute_input": "2025-05-21T10:15:27.438519Z",
     "iopub.status.busy": "2025-05-21T10:15:27.438192Z",
     "iopub.status.idle": "2025-05-21T10:15:27.454701Z",
     "shell.execute_reply": "2025-05-21T10:15:27.453553Z"
    },
    "papermill": {
     "duration": 0.028485,
     "end_time": "2025-05-21T10:15:27.456330",
     "exception": false,
     "start_time": "2025-05-21T10:15:27.427845",
     "status": "completed"
    },
    "tags": []
   },
   "outputs": [],
   "source": [
    "model.compile(\n",
    "    optimizer='adam',\n",
    "    loss=tf.keras.losses.SparseCategoricalCrossentropy(from_logits=True),\n",
    "    metrics=['accuracy']\n",
    ")\n"
   ]
  },
  {
   "cell_type": "markdown",
   "id": "245cbe05",
   "metadata": {
    "papermill": {
     "duration": 0.009143,
     "end_time": "2025-05-21T10:15:27.474885",
     "exception": false,
     "start_time": "2025-05-21T10:15:27.465742",
     "status": "completed"
    },
    "tags": []
   },
   "source": [
    "**🏋️ Train the Brain!**\n",
    "\n",
    "Let’s teach it with the training data. This is where learning happens. 🎓"
   ]
  },
  {
   "cell_type": "code",
   "execution_count": 11,
   "id": "7a4c1818",
   "metadata": {
    "execution": {
     "iopub.execute_input": "2025-05-21T10:15:27.495060Z",
     "iopub.status.busy": "2025-05-21T10:15:27.494701Z",
     "iopub.status.idle": "2025-05-21T10:16:33.474328Z",
     "shell.execute_reply": "2025-05-21T10:16:33.473444Z"
    },
    "papermill": {
     "duration": 65.991975,
     "end_time": "2025-05-21T10:16:33.476371",
     "exception": false,
     "start_time": "2025-05-21T10:15:27.484396",
     "status": "completed"
    },
    "tags": []
   },
   "outputs": [
    {
     "name": "stdout",
     "output_type": "stream",
     "text": [
      "Epoch 1/10\n",
      "\u001b[1m1688/1688\u001b[0m \u001b[32m━━━━━━━━━━━━━━━━━━━━\u001b[0m\u001b[37m\u001b[0m \u001b[1m8s\u001b[0m 4ms/step - accuracy: 0.7801 - loss: 0.6414 - val_accuracy: 0.8572 - val_loss: 0.4008\n",
      "Epoch 2/10\n",
      "\u001b[1m1688/1688\u001b[0m \u001b[32m━━━━━━━━━━━━━━━━━━━━\u001b[0m\u001b[37m\u001b[0m \u001b[1m6s\u001b[0m 4ms/step - accuracy: 0.8631 - loss: 0.3911 - val_accuracy: 0.8658 - val_loss: 0.3662\n",
      "Epoch 3/10\n",
      "\u001b[1m1688/1688\u001b[0m \u001b[32m━━━━━━━━━━━━━━━━━━━━\u001b[0m\u001b[37m\u001b[0m \u001b[1m6s\u001b[0m 3ms/step - accuracy: 0.8747 - loss: 0.3465 - val_accuracy: 0.8655 - val_loss: 0.3614\n",
      "Epoch 4/10\n",
      "\u001b[1m1688/1688\u001b[0m \u001b[32m━━━━━━━━━━━━━━━━━━━━\u001b[0m\u001b[37m\u001b[0m \u001b[1m6s\u001b[0m 4ms/step - accuracy: 0.8820 - loss: 0.3211 - val_accuracy: 0.8767 - val_loss: 0.3330\n",
      "Epoch 5/10\n",
      "\u001b[1m1688/1688\u001b[0m \u001b[32m━━━━━━━━━━━━━━━━━━━━\u001b[0m\u001b[37m\u001b[0m \u001b[1m6s\u001b[0m 4ms/step - accuracy: 0.8901 - loss: 0.3017 - val_accuracy: 0.8817 - val_loss: 0.3287\n",
      "Epoch 6/10\n",
      "\u001b[1m1688/1688\u001b[0m \u001b[32m━━━━━━━━━━━━━━━━━━━━\u001b[0m\u001b[37m\u001b[0m \u001b[1m7s\u001b[0m 4ms/step - accuracy: 0.8990 - loss: 0.2781 - val_accuracy: 0.8785 - val_loss: 0.3445\n",
      "Epoch 7/10\n",
      "\u001b[1m1688/1688\u001b[0m \u001b[32m━━━━━━━━━━━━━━━━━━━━\u001b[0m\u001b[37m\u001b[0m \u001b[1m7s\u001b[0m 4ms/step - accuracy: 0.9007 - loss: 0.2668 - val_accuracy: 0.8800 - val_loss: 0.3226\n",
      "Epoch 8/10\n",
      "\u001b[1m1688/1688\u001b[0m \u001b[32m━━━━━━━━━━━━━━━━━━━━\u001b[0m\u001b[37m\u001b[0m \u001b[1m6s\u001b[0m 4ms/step - accuracy: 0.9031 - loss: 0.2594 - val_accuracy: 0.8860 - val_loss: 0.3197\n",
      "Epoch 9/10\n",
      "\u001b[1m1688/1688\u001b[0m \u001b[32m━━━━━━━━━━━━━━━━━━━━\u001b[0m\u001b[37m\u001b[0m \u001b[1m6s\u001b[0m 4ms/step - accuracy: 0.9102 - loss: 0.2420 - val_accuracy: 0.8905 - val_loss: 0.3107\n",
      "Epoch 10/10\n",
      "\u001b[1m1688/1688\u001b[0m \u001b[32m━━━━━━━━━━━━━━━━━━━━\u001b[0m\u001b[37m\u001b[0m \u001b[1m6s\u001b[0m 4ms/step - accuracy: 0.9122 - loss: 0.2393 - val_accuracy: 0.8893 - val_loss: 0.3137\n"
     ]
    },
    {
     "data": {
      "text/plain": [
       "<keras.src.callbacks.history.History at 0x7a732da1aad0>"
      ]
     },
     "execution_count": 11,
     "metadata": {},
     "output_type": "execute_result"
    }
   ],
   "source": [
    "model.fit(train_images, train_labels, epochs=10, validation_split=0.1)\n"
   ]
  },
  {
   "cell_type": "markdown",
   "id": "e34f46ea",
   "metadata": {
    "papermill": {
     "duration": 0.067721,
     "end_time": "2025-05-21T10:16:33.616653",
     "exception": false,
     "start_time": "2025-05-21T10:16:33.548932",
     "status": "completed"
    },
    "tags": []
   },
   "source": [
    "**📊 Test on New Clothes**\n",
    "\n",
    "Let’s test how our AI performs on unseen clothes (validation set)."
   ]
  },
  {
   "cell_type": "code",
   "execution_count": 12,
   "id": "31a50157",
   "metadata": {
    "execution": {
     "iopub.execute_input": "2025-05-21T10:16:33.756298Z",
     "iopub.status.busy": "2025-05-21T10:16:33.755943Z",
     "iopub.status.idle": "2025-05-21T10:16:34.619948Z",
     "shell.execute_reply": "2025-05-21T10:16:34.618818Z"
    },
    "papermill": {
     "duration": 0.935784,
     "end_time": "2025-05-21T10:16:34.621999",
     "exception": false,
     "start_time": "2025-05-21T10:16:33.686215",
     "status": "completed"
    },
    "tags": []
   },
   "outputs": [
    {
     "name": "stdout",
     "output_type": "stream",
     "text": [
      "\u001b[1m313/313\u001b[0m \u001b[32m━━━━━━━━━━━━━━━━━━━━\u001b[0m\u001b[37m\u001b[0m \u001b[1m1s\u001b[0m 2ms/step - accuracy: 0.8834 - loss: 0.3339\n",
      "Test Accuracy: 88.18%\n"
     ]
    }
   ],
   "source": [
    "test_loss, test_accuracy = model.evaluate(valid_images, valid_labels)\n",
    "print(f\"Test Accuracy: {test_accuracy:.2%}\")\n"
   ]
  },
  {
   "cell_type": "markdown",
   "id": "86d60ec5",
   "metadata": {
    "papermill": {
     "duration": 0.072094,
     "end_time": "2025-05-21T10:16:34.765929",
     "exception": false,
     "start_time": "2025-05-21T10:16:34.693835",
     "status": "completed"
    },
    "tags": []
   },
   "source": [
    "**🔮 Predict the Fashion Item**\n",
    "\n",
    "Now let’s turn it into a fashion psychic 🔮👚👠\n"
   ]
  },
  {
   "cell_type": "code",
   "execution_count": 13,
   "id": "85760d70",
   "metadata": {
    "execution": {
     "iopub.execute_input": "2025-05-21T10:16:34.912110Z",
     "iopub.status.busy": "2025-05-21T10:16:34.911748Z",
     "iopub.status.idle": "2025-05-21T10:16:35.757853Z",
     "shell.execute_reply": "2025-05-21T10:16:35.756631Z"
    },
    "papermill": {
     "duration": 0.921115,
     "end_time": "2025-05-21T10:16:35.759660",
     "exception": false,
     "start_time": "2025-05-21T10:16:34.838545",
     "status": "completed"
    },
    "tags": []
   },
   "outputs": [
    {
     "name": "stdout",
     "output_type": "stream",
     "text": [
      "\u001b[1m313/313\u001b[0m \u001b[32m━━━━━━━━━━━━━━━━━━━━\u001b[0m\u001b[37m\u001b[0m \u001b[1m1s\u001b[0m 2ms/step\n"
     ]
    }
   ],
   "source": [
    "probability_model = tf.keras.Sequential([\n",
    "    model,\n",
    "    tf.keras.layers.Softmax()\n",
    "])\n",
    "\n",
    "predictions = probability_model.predict(valid_images)\n"
   ]
  },
  {
   "cell_type": "markdown",
   "id": "a968e3e4",
   "metadata": {
    "papermill": {
     "duration": 0.073597,
     "end_time": "2025-05-21T10:16:35.906209",
     "exception": false,
     "start_time": "2025-05-21T10:16:35.832612",
     "status": "completed"
    },
    "tags": []
   },
   "source": [
    "**🖼️ Let’s See What It Thinks!**\n",
    "\n",
    "We’ll visualize the prediction + actual label."
   ]
  },
  {
   "cell_type": "code",
   "execution_count": 14,
   "id": "10dfa2c8",
   "metadata": {
    "execution": {
     "iopub.execute_input": "2025-05-21T10:16:36.052340Z",
     "iopub.status.busy": "2025-05-21T10:16:36.052032Z",
     "iopub.status.idle": "2025-05-21T10:16:36.121364Z",
     "shell.execute_reply": "2025-05-21T10:16:36.120406Z"
    },
    "papermill": {
     "duration": 0.145793,
     "end_time": "2025-05-21T10:16:36.123030",
     "exception": false,
     "start_time": "2025-05-21T10:16:35.977237",
     "status": "completed"
    },
    "tags": []
   },
   "outputs": [
    {
     "data": {
      "image/png": "[encoded data removed]",
      "text/plain": [
       "<Figure size 600x300 with 1 Axes>"
      ]
     },
     "metadata": {},
     "output_type": "display_data"
    }
   ],
   "source": [
    "def plot_image(i, predictions_array, true_label, img):\n",
    "    predictions_array, true_label, img = predictions_array, true_label[i], img[i]\n",
    "    plt.grid(False)\n",
    "    plt.xticks([])\n",
    "    plt.yticks([])\n",
    "    plt.imshow(img, cmap='gray')\n",
    "\n",
    "    predicted_label = np.argmax(predictions_array)\n",
    "    confidence = 100 * np.max(predictions_array)\n",
    "\n",
    "    colour = 'blue' if predicted_label == true_label else 'red'\n",
    "\n",
    "    plt.xlabel(f\"{class_names[predicted_label]} ({confidence:.2f}%)\\nTrue: {class_names[true_label]}\", color=colour)\n",
    "\n",
    "index = 6174\n",
    "plt.figure(figsize=(6,3))\n",
    "plot_image(index, predictions[index], valid_labels, valid_images)\n",
    "plt.show()\n"
   ]
  },
  {
   "cell_type": "markdown",
   "id": "b41149a5",
   "metadata": {
    "papermill": {
     "duration": 0.071759,
     "end_time": "2025-05-21T10:16:36.274002",
     "exception": false,
     "start_time": "2025-05-21T10:16:36.202243",
     "status": "completed"
    },
    "tags": []
   },
   "source": [
    "**🔍 View Multiple Predictions in One Grid**\n",
    "\n",
    "Let’s display a 3x3 grid of predictions to see how well the model is doing. ✅❌"
   ]
  },
  {
   "cell_type": "code",
   "execution_count": 15,
   "id": "85445fc0",
   "metadata": {
    "execution": {
     "iopub.execute_input": "2025-05-21T10:16:36.454607Z",
     "iopub.status.busy": "2025-05-21T10:16:36.454273Z",
     "iopub.status.idle": "2025-05-21T10:16:36.460441Z",
     "shell.execute_reply": "2025-05-21T10:16:36.459420Z"
    },
    "papermill": {
     "duration": 0.084262,
     "end_time": "2025-05-21T10:16:36.462105",
     "exception": false,
     "start_time": "2025-05-21T10:16:36.377843",
     "status": "completed"
    },
    "tags": []
   },
   "outputs": [],
   "source": [
    "def plot_image(i, predictions_array, true_label, img):\n",
    "    predictions_array, true_label, img = predictions_array[i], true_label[i], img[i]\n",
    "    plt.grid(False)\n",
    "    plt.xticks([])\n",
    "    plt.yticks([])\n",
    "    plt.imshow(img, cmap='gray')\n",
    "\n",
    "    predicted_label = np.argmax(predictions_array)\n",
    "    confidence = 100 * np.max(predictions_array)\n",
    "\n",
    "    colour = 'blue' if predicted_label == true_label else 'red'\n",
    "\n",
    "    plt.xlabel(f\"{class_names[predicted_label]} ({confidence:.2f}%)\\nTrue: {class_names[true_label]}\", color=colour)\n"
   ]
  },
  {
   "cell_type": "code",
   "execution_count": 16,
   "id": "18ec4ada",
   "metadata": {
    "execution": {
     "iopub.execute_input": "2025-05-21T10:16:36.614076Z",
     "iopub.status.busy": "2025-05-21T10:16:36.613769Z",
     "iopub.status.idle": "2025-05-21T10:16:37.119994Z",
     "shell.execute_reply": "2025-05-21T10:16:37.119060Z"
    },
    "papermill": {
     "duration": 0.584092,
     "end_time": "2025-05-21T10:16:37.121786",
     "exception": false,
     "start_time": "2025-05-21T10:16:36.537694",
     "status": "completed"
    },
    "tags": []
   },
   "outputs": [
    {
     "data": {
      "image/png": "[encoded data removed]",
      "text/plain": [
       "<Figure size 1000x1000 with 9 Axes>"
      ]
     },
     "metadata": {},
     "output_type": "display_data"
    }
   ],
   "source": [
    "def plot_multiple_predictions(images, labels, predictions, class_names, num=9):\n",
    "    plt.figure(figsize=(10, 10))\n",
    "    for i in range(num):\n",
    "        plt.subplot(3, 3, i + 1)\n",
    "        plot_image(i, predictions, labels, images)\n",
    "    plt.tight_layout()\n",
    "    plt.show()\n",
    "\n",
    "# Show predictions for the first 9 images\n",
    "plot_multiple_predictions(valid_images, valid_labels, predictions, class_names)\n"
   ]
  },
  {
   "cell_type": "markdown",
   "id": "c8d209b4",
   "metadata": {
    "papermill": {
     "duration": 0.071961,
     "end_time": "2025-05-21T10:16:37.266794",
     "exception": false,
     "start_time": "2025-05-21T10:16:37.194833",
     "status": "completed"
    },
    "tags": []
   },
   "source": [
    "**🎉 You Just Built a Tiny Brain! 🧠**\n",
    "\n",
    "You taught a neural network to see fashion.\n",
    "\n",
    "It now recognises trousers from T-shirts and boots from bags.\n",
    "\n",
    "And you did it with a few lines of Python + TensorFlow!\n",
    "\n",
    "🤖 Fun Fact: If you showed this model to someone in the 1950s, they’d think you were a wizard."
   ]
  },
  {
   "cell_type": "code",
   "execution_count": null,
   "id": "901bf713",
   "metadata": {
    "papermill": {
     "duration": 0.07269,
     "end_time": "2025-05-21T10:16:37.413517",
     "exception": false,
     "start_time": "2025-05-21T10:16:37.340827",
     "status": "completed"
    },
    "tags": []
   },
   "outputs": [],
   "source": []
  }
 ],
 "metadata": {
  "kaggle": {
   "accelerator": "none",
   "dataSources": [
    {
     "datasetId": 7475433,
     "sourceId": 11892988,
     "sourceType": "datasetVersion"
    }
   ],
   "dockerImageVersionId": 31040,
   "isGpuEnabled": false,
   "isInternetEnabled": true,
   "language": "python",
   "sourceType": "notebook"
  },
  "kernelspec": {
   "display_name": "Python 3",
   "language": "python",
   "name": "python3"
  },
  "language_info": {
   "codemirror_mode": {
    "name": "ipython",
    "version": 3
   },
   "file_extension": ".py",
   "mimetype": "text/x-python",
   "name": "python",
   "nbconvert_exporter": "python",
   "pygments_lexer": "ipython3",
   "version": "3.11.11"
  },
  "papermill": {
   "default_parameters": {},
   "duration": 113.302798,
   "end_time": "2025-05-21T10:16:40.813969",
   "environment_variables": {},
   "exception": null,
   "input_path": "__notebook__.ipynb",
   "output_path": "__notebook__.ipynb",
   "parameters": {},
   "start_time": "2025-05-21T10:14:47.511171",
   "version": "2.6.0"
  }
 },
 "nbformat": 4,
 "nbformat_minor": 5
}
